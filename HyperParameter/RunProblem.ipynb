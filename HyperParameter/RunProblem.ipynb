{
 "cells": [
  {
   "cell_type": "code",
   "execution_count": 1,
   "metadata": {},
   "outputs": [
    {
     "name": "stdout",
     "output_type": "stream",
     "text": [
      "Training Error = 0.0258\n",
      "Test Error = 0.0154\n"
     ]
    }
   ],
   "source": [
    "import numpy as np\n",
    "import matplotlib.pyplot as plt\n",
    "import pandas\n",
    "\n",
    "# Function that creates the X matrix as defined for fitting our model\n",
    "def create_X(x,deg):\n",
    "    X = np.ones((len(x),deg+1))\n",
    "    for i in range(1,deg+1):\n",
    "        X[:,i] = x**i\n",
    "    return X\n",
    "\n",
    "# Function for predicting the response\n",
    "def predict_y(x,beta):\n",
    "    return np.dot(create_X(x,len(beta)-1),beta)\n",
    "\n",
    "# Function for fitting the model\n",
    "def fit_beta(df,deg):\n",
    "    return np.linalg.lstsq(create_X(df.x,deg),df.y,rcond=None)[0]\n",
    "\n",
    "# Function for computing the MSE\n",
    "def mse(y,yPred):\n",
    "    return np.mean((y-yPred)**2)\n",
    "\n",
    "# Loading training, validation and test data\n",
    "dfTrain = pandas.read_csv('Data_Train.csv')\n",
    "dfVal = pandas.read_csv('Data_Val.csv')\n",
    "dfTest = pandas.read_csv('Data_Test.csv')\n",
    "\n",
    "############ TRAINING A MODEL\n",
    "\n",
    "# Fitting model\n",
    "deg = 1\n",
    "X = create_X(dfTrain.x,deg)\n",
    "beta = fit_beta(dfTrain,deg)\n",
    "\n",
    "# Computing training error\n",
    "yPredTrain = predict_y(dfTrain.x,beta)\n",
    "err = mse(dfTrain.y,yPredTrain)\n",
    "print('Training Error = {:2.3}'.format(err))\n",
    "\n",
    "# Computing test error\n",
    "yPredTest = predict_y(dfTest.x,beta)\n",
    "err = mse(dfTest.y,yPredTest)\n",
    "print('Test Error = {:2.3}'.format(err))"
   ]
  },
  {
   "cell_type": "code",
   "execution_count": 2,
   "metadata": {},
   "outputs": [
    {
     "data": {
      "image/png": "[encoded data removed]",
      "text/plain": [
       "<Figure size 432x288 with 1 Axes>"
      ]
     },
     "metadata": {
      "needs_background": "light"
     },
     "output_type": "display_data"
    }
   ],
   "source": [
    "############ PLOTTING FITTED MODEL\n",
    "x = np.linspace(0,1,100)\n",
    "y = predict_y(x,beta)\n",
    "\n",
    "plt.plot(x,y,'b-',dfTrain.x,dfTrain.y,'r.')\n",
    "plt.show()"
   ]
  },
  {
   "cell_type": "code",
   "execution_count": null,
   "metadata": {},
   "outputs": [],
   "source": [
    "############ HYPER-PARAMETER TUNING\n",
    "\n",
    "# Initializing range of degree values to be tested and errors\n",
    "degRange = list(range(1,11))\n",
    "errTrain = np.zeros(len(degRange))\n",
    "errVal = np.zeros(len(degRange))\n",
    "\n",
    "# Computing error as a function of degree\n",
    "# ...\n",
    "    \n",
    "# Plotting training and validation errors\n",
    "plt.plot(degRange,errTrain,'b-',degRange,errVal,'r-')\n",
    "plt.legend(('Training Error','Validation Error'))\n",
    "plt.show()"
   ]
  },
  {
   "cell_type": "code",
   "execution_count": null,
   "metadata": {},
   "outputs": [],
   "source": [
    "############ TRAINING SELECTED MODEL\n",
    "\n",
    "# Concatenating data training and validation data frames\n",
    "df = # ...\n",
    "\n",
    "# Fit model using the optimal degree found in the previous cell\n",
    "degOpt = # ...\n",
    "# ...\n",
    "\n",
    "# Compute and print training and test errors\n",
    "# ..."
   ]
  },
  {
   "cell_type": "code",
   "execution_count": null,
   "metadata": {},
   "outputs": [],
   "source": [
    "############ PLOTTING FITTED MODEL\n",
    "# Plot the fitted model as in the second cell\n",
    "# ..."
   ]
  }
 ],
 "metadata": {
  "kernelspec": {
   "display_name": "Python 3",
   "language": "python",
   "name": "python3"
  },
  "language_info": {
   "codemirror_mode": {
    "name": "ipython",
    "version": 3
   },
   "file_extension": ".py",
   "mimetype": "text/x-python",
   "name": "python",
   "nbconvert_exporter": "python",
   "pygments_lexer": "ipython3",
   "version": "3.7.0"
  }
 },
 "nbformat": 4,
 "nbformat_minor": 2
}
